{
 "cells": [
  {
   "cell_type": "markdown",
   "metadata": {},
   "source": [
    "# Data processing"
   ]
  },
  {
   "cell_type": "code",
   "execution_count": 56,
   "metadata": {},
   "outputs": [],
   "source": [
    "import pandas as pd\n",
    "import json\n",
    "from os import walk\n",
    "def collect_ind(sub_class):\n",
    "    filenames = next(walk(f'data/{sub_class}'), (None, None, []))[2]  # [] if no file\n",
    "\n",
    "    ind_all = []\n",
    "    for i in range(len(filenames)):\n",
    "        recipe = filenames[i]\n",
    "        # read file\n",
    "        with open(f'data/{sub_class}/{recipe}', 'r') as myfile:\n",
    "            rec=myfile.read()\n",
    "        js_rec = json.loads(rec)\n",
    "        ind_all+=js_rec['ingredients']\n",
    "        \n",
    "    ind_all = pd.DataFrame(ind_all).rename(columns={'name':'ingredients'})\n",
    "    \n",
    "    return ind_all\n",
    "\n",
    "def count_condiment(data,name):\n",
    "    data = (\n",
    "        pd.DataFrame(data.ingredients.value_counts())\n",
    "    .reset_index(drop=False)\n",
    "    .rename(columns = {'index':'ingredients','ingredients':name})\n",
    "    .merge(ind_class,on = 'ingredients',how = 'left')\n",
    "    .fillna('condiments(exclusive)')\n",
    "    .drop('ingredients',axis = 1)\n",
    "    )\n",
    "    \n",
    "    data = pd.DataFrame(data.type.value_counts()).reset_index(drop = False).rename(columns ={'index':'type','type':name})\n",
    "    return data\n",
    "\n",
    "ind_class = pd.read_excel('503-ingredients.xlsx')\n",
    "ind_class = ind_class.melt(value_name='ingredients',var_name = 'type')\n",
    "ind_class = ind_class.dropna()\n",
    "with open('all_ingredients.txt') as file:\n",
    "    lines = file.readlines()\n",
    "\n",
    "# eval(lines[0])\n",
    "# data = []\n",
    "\n",
    "# for i in lines:\n",
    "#     data.append(eval(i))\n",
    "# data = pd.DataFrame(data,columns=['ingredients','counts'])\n",
    "# data = data.merge(ind_class,on = 'ingredients',how = 'left')\n",
    "# data = data.fillna('condiments(exclusive)')\n",
    "\n",
    "appetizer = collect_ind('appetizer')\n",
    "beverage = collect_ind('beverage')\n",
    "breakfast = collect_ind('breakfast')\n",
    "dessert = collect_ind('dessert')\n",
    "entree = collect_ind('entree')\n",
    "salad = collect_ind('salad')\n",
    "side = collect_ind('side')\n",
    "soup_stew = collect_ind('soup-stew')\n",
    "\n",
    "appetizer = count_condiment(appetizer,'appetizer')\n",
    "beverage = count_condiment(beverage,'beverage')\n",
    "breakfast = count_condiment(breakfast,'breakfast')\n",
    "dessert = count_condiment(dessert,'dessert')\n",
    "entree = count_condiment(entree,'entree')\n",
    "salad = count_condiment(salad,'salad')\n",
    "side = count_condiment(side,'side')\n",
    "soup_stew = count_condiment(soup_stew,'soup_stew')\n",
    "\n",
    "data = appetizer.merge(beverage,how = 'outer',on = 'type')\n",
    "data = data.merge(breakfast,how = 'outer',on = 'type')\n",
    "data = data.merge(dessert,how = 'outer',on = 'type')\n",
    "data = data.merge(entree,how = 'outer',on = 'type')\n",
    "data = data.merge(salad,how = 'outer',on = 'type')\n",
    "data = data.merge(side,how = 'outer',on = 'type')\n",
    "data = data.merge(soup_stew,how = 'outer',on = 'type')\n",
    "data = data.fillna(0)\n",
    "\n",
    "data.iloc[6,0] = 'carbohydrates'"
   ]
  },
  {
   "cell_type": "code",
   "execution_count": 57,
   "metadata": {},
   "outputs": [],
   "source": [
    "data.to_csv('windrose.csv',index=False)"
   ]
  },
  {
   "cell_type": "markdown",
   "metadata": {},
   "source": [
    "# plotting"
   ]
  },
  {
   "cell_type": "code",
   "execution_count": 12,
   "metadata": {},
   "outputs": [],
   "source": [
    "import dash\n",
    "from dash import dcc,html\n",
    "import plotly.graph_objects as go\n",
    "import plotly.express as px\n",
    "from dash.dependencies import Input, Output"
   ]
  },
  {
   "cell_type": "code",
   "execution_count": 64,
   "metadata": {},
   "outputs": [],
   "source": [
    "data = pd.read_csv('windrose.csv')"
   ]
  },
  {
   "cell_type": "code",
   "execution_count": 65,
   "metadata": {},
   "outputs": [],
   "source": [
    "data.iloc[:,1:] = data.iloc[:,1:]/data.iloc[:,1:].sum()\n",
    "data = data.drop(0)"
   ]
  },
  {
   "cell_type": "markdown",
   "metadata": {},
   "source": [
    "# dash"
   ]
  },
  {
   "cell_type": "code",
   "execution_count": 13,
   "metadata": {},
   "outputs": [],
   "source": [
    "df = px.data.stocks()\n",
    "\n",
    "app.layout = html.Div(id = 'parent', children = [\n",
    "    html.H1(id = 'H1', children = 'Styling using html components', style = {'textAlign':'center',\\\n",
    "                                            'marginTop':40,'marginBottom':40}),\n",
    "\n",
    "        dcc.Dropdown( id = 'dropdown',\n",
    "        options = [\n",
    "            {'label':'appetizer', 'value':'appetizer' },\n",
    "            ],\n",
    "        value = 'appetizer'),\n",
    "        dcc.Graph(id = 'bar_plot')\n",
    "    ])\n",
    "    \n",
    "    \n",
    "@app.callback(Output(component_id='bar_plot', component_property= 'figure'),\n",
    "              [Input(component_id='dropdown', component_property= 'value')])\n",
    "def graph_update(dropdown_value):\n",
    "    print(dropdown_value)\n",
    "    fig = px.line_polar(data, r=dropdown_value, theta=\"type\", template=\"plotly_dark\",\n",
    "                   color_discrete_sequence= px.colors.sequential.Plasma_r,line_close=True)\n",
    "    \n",
    "    fig.update_layout(title = dropdown_value\n",
    "                      )\n",
    "    return fig  \n",
    "\n",
    "# app.run_server()"
   ]
  },
  {
   "cell_type": "markdown",
   "metadata": {},
   "source": [
    "# windrose"
   ]
  },
  {
   "cell_type": "code",
   "execution_count": 58,
   "metadata": {},
   "outputs": [],
   "source": [
    "import plotly.graph_objects as go"
   ]
  },
  {
   "cell_type": "code",
   "execution_count": 66,
   "metadata": {},
   "outputs": [
    {
     "data": {
      "text/html": [
       "<div>\n",
       "<style scoped>\n",
       "    .dataframe tbody tr th:only-of-type {\n",
       "        vertical-align: middle;\n",
       "    }\n",
       "\n",
       "    .dataframe tbody tr th {\n",
       "        vertical-align: top;\n",
       "    }\n",
       "\n",
       "    .dataframe thead th {\n",
       "        text-align: right;\n",
       "    }\n",
       "</style>\n",
       "<table border=\"1\" class=\"dataframe\">\n",
       "  <thead>\n",
       "    <tr style=\"text-align: right;\">\n",
       "      <th></th>\n",
       "      <th>type</th>\n",
       "      <th>appetizer</th>\n",
       "      <th>beverage</th>\n",
       "      <th>breakfast</th>\n",
       "      <th>dessert</th>\n",
       "      <th>entree</th>\n",
       "      <th>salad</th>\n",
       "      <th>side</th>\n",
       "      <th>soup_stew</th>\n",
       "    </tr>\n",
       "  </thead>\n",
       "  <tbody>\n",
       "    <tr>\n",
       "      <th>1</th>\n",
       "      <td>vegetable</td>\n",
       "      <td>0.131868</td>\n",
       "      <td>0.010753</td>\n",
       "      <td>0.080</td>\n",
       "      <td>0.007968</td>\n",
       "      <td>0.085139</td>\n",
       "      <td>0.173913</td>\n",
       "      <td>0.171296</td>\n",
       "      <td>0.138889</td>\n",
       "    </tr>\n",
       "    <tr>\n",
       "      <th>2</th>\n",
       "      <td>protein</td>\n",
       "      <td>0.131868</td>\n",
       "      <td>0.010753</td>\n",
       "      <td>0.064</td>\n",
       "      <td>0.027888</td>\n",
       "      <td>0.086687</td>\n",
       "      <td>0.080745</td>\n",
       "      <td>0.069444</td>\n",
       "      <td>0.087302</td>\n",
       "    </tr>\n",
       "    <tr>\n",
       "      <th>3</th>\n",
       "      <td>condiment (liquid)</td>\n",
       "      <td>0.115385</td>\n",
       "      <td>0.086022</td>\n",
       "      <td>0.104</td>\n",
       "      <td>0.075697</td>\n",
       "      <td>0.060372</td>\n",
       "      <td>0.093168</td>\n",
       "      <td>0.069444</td>\n",
       "      <td>0.079365</td>\n",
       "    </tr>\n",
       "    <tr>\n",
       "      <th>4</th>\n",
       "      <td>condiment (powder)</td>\n",
       "      <td>0.093407</td>\n",
       "      <td>0.043011</td>\n",
       "      <td>0.112</td>\n",
       "      <td>0.083665</td>\n",
       "      <td>0.054180</td>\n",
       "      <td>0.074534</td>\n",
       "      <td>0.097222</td>\n",
       "      <td>0.063492</td>\n",
       "    </tr>\n",
       "    <tr>\n",
       "      <th>5</th>\n",
       "      <td>condiment (bulk)</td>\n",
       "      <td>0.065934</td>\n",
       "      <td>0.053763</td>\n",
       "      <td>0.024</td>\n",
       "      <td>0.023904</td>\n",
       "      <td>0.041796</td>\n",
       "      <td>0.062112</td>\n",
       "      <td>0.041667</td>\n",
       "      <td>0.059524</td>\n",
       "    </tr>\n",
       "    <tr>\n",
       "      <th>6</th>\n",
       "      <td>carbohydrates</td>\n",
       "      <td>0.049451</td>\n",
       "      <td>0.021505</td>\n",
       "      <td>0.080</td>\n",
       "      <td>0.059761</td>\n",
       "      <td>0.044892</td>\n",
       "      <td>0.043478</td>\n",
       "      <td>0.064815</td>\n",
       "      <td>0.071429</td>\n",
       "    </tr>\n",
       "    <tr>\n",
       "      <th>7</th>\n",
       "      <td>processed food</td>\n",
       "      <td>0.043956</td>\n",
       "      <td>0.010753</td>\n",
       "      <td>0.064</td>\n",
       "      <td>0.011952</td>\n",
       "      <td>0.023220</td>\n",
       "      <td>0.024845</td>\n",
       "      <td>0.023148</td>\n",
       "      <td>0.031746</td>\n",
       "    </tr>\n",
       "    <tr>\n",
       "      <th>8</th>\n",
       "      <td>beverage</td>\n",
       "      <td>0.032967</td>\n",
       "      <td>0.150538</td>\n",
       "      <td>0.056</td>\n",
       "      <td>0.039841</td>\n",
       "      <td>0.021672</td>\n",
       "      <td>0.037267</td>\n",
       "      <td>0.037037</td>\n",
       "      <td>0.043651</td>\n",
       "    </tr>\n",
       "    <tr>\n",
       "      <th>9</th>\n",
       "      <td>other</td>\n",
       "      <td>0.027473</td>\n",
       "      <td>0.000000</td>\n",
       "      <td>0.048</td>\n",
       "      <td>0.003984</td>\n",
       "      <td>0.007740</td>\n",
       "      <td>0.012422</td>\n",
       "      <td>0.018519</td>\n",
       "      <td>0.011905</td>\n",
       "    </tr>\n",
       "    <tr>\n",
       "      <th>10</th>\n",
       "      <td>fruit</td>\n",
       "      <td>0.021978</td>\n",
       "      <td>0.043011</td>\n",
       "      <td>0.048</td>\n",
       "      <td>0.047809</td>\n",
       "      <td>0.021672</td>\n",
       "      <td>0.024845</td>\n",
       "      <td>0.009259</td>\n",
       "      <td>0.000000</td>\n",
       "    </tr>\n",
       "    <tr>\n",
       "      <th>11</th>\n",
       "      <td>mushroom/fungus</td>\n",
       "      <td>0.010989</td>\n",
       "      <td>0.000000</td>\n",
       "      <td>0.008</td>\n",
       "      <td>0.000000</td>\n",
       "      <td>0.013932</td>\n",
       "      <td>0.024845</td>\n",
       "      <td>0.032407</td>\n",
       "      <td>0.031746</td>\n",
       "    </tr>\n",
       "  </tbody>\n",
       "</table>\n",
       "</div>"
      ],
      "text/plain": [
       "                  type  appetizer  beverage  breakfast   dessert    entree  \\\n",
       "1            vegetable   0.131868  0.010753      0.080  0.007968  0.085139   \n",
       "2              protein   0.131868  0.010753      0.064  0.027888  0.086687   \n",
       "3   condiment (liquid)   0.115385  0.086022      0.104  0.075697  0.060372   \n",
       "4   condiment (powder)   0.093407  0.043011      0.112  0.083665  0.054180   \n",
       "5     condiment (bulk)   0.065934  0.053763      0.024  0.023904  0.041796   \n",
       "6        carbohydrates   0.049451  0.021505      0.080  0.059761  0.044892   \n",
       "7       processed food   0.043956  0.010753      0.064  0.011952  0.023220   \n",
       "8             beverage   0.032967  0.150538      0.056  0.039841  0.021672   \n",
       "9                other   0.027473  0.000000      0.048  0.003984  0.007740   \n",
       "10               fruit   0.021978  0.043011      0.048  0.047809  0.021672   \n",
       "11     mushroom/fungus   0.010989  0.000000      0.008  0.000000  0.013932   \n",
       "\n",
       "       salad      side  soup_stew  \n",
       "1   0.173913  0.171296   0.138889  \n",
       "2   0.080745  0.069444   0.087302  \n",
       "3   0.093168  0.069444   0.079365  \n",
       "4   0.074534  0.097222   0.063492  \n",
       "5   0.062112  0.041667   0.059524  \n",
       "6   0.043478  0.064815   0.071429  \n",
       "7   0.024845  0.023148   0.031746  \n",
       "8   0.037267  0.037037   0.043651  \n",
       "9   0.012422  0.018519   0.011905  \n",
       "10  0.024845  0.009259   0.000000  \n",
       "11  0.024845  0.032407   0.031746  "
      ]
     },
     "execution_count": 66,
     "metadata": {},
     "output_type": "execute_result"
    }
   ],
   "source": [
    "data"
   ]
  },
  {
   "cell_type": "code",
   "execution_count": 78,
   "metadata": {},
   "outputs": [
    {
     "data": {
      "application/vnd.plotly.v1+json": {
       "config": {
        "plotlyServerURL": "https://plot.ly"
       },
       "data": [
        {
         "fill": "toself",
         "name": "appetizer",
         "r": [
          0.13186813186813187,
          0.13186813186813187,
          0.11538461538461539,
          0.09340659340659341,
          0.06593406593406594,
          0.04945054945054945,
          0.04395604395604396,
          0.03296703296703297,
          0.027472527472527472,
          0.02197802197802198,
          0.01098901098901099
         ],
         "theta": [
          "vegetable",
          "protein",
          "condiment (liquid)",
          "condiment (powder)",
          "condiment (bulk)",
          "carbohydrates",
          "processed food",
          "beverage",
          "other",
          "fruit",
          "mushroom/fungus"
         ],
         "type": "scatterpolar"
        },
        {
         "fill": "toself",
         "name": "breakfast",
         "r": [
          0.08,
          0.064,
          0.104,
          0.112,
          0.024,
          0.08,
          0.064,
          0.056,
          0.048,
          0.048,
          0.008
         ],
         "theta": [
          "vegetable",
          "protein",
          "condiment (liquid)",
          "condiment (powder)",
          "condiment (bulk)",
          "carbohydrates",
          "processed food",
          "beverage",
          "other",
          "fruit",
          "mushroom/fungus"
         ],
         "type": "scatterpolar"
        },
        {
         "fill": "toself",
         "name": "beverage",
         "r": [
          0.010752688172043012,
          0.010752688172043012,
          0.08602150537634409,
          0.043010752688172046,
          0.053763440860215055,
          0.021505376344086023,
          0.010752688172043012,
          0.15053763440860216,
          0,
          0.043010752688172046,
          0
         ],
         "theta": [
          "vegetable",
          "protein",
          "condiment (liquid)",
          "condiment (powder)",
          "condiment (bulk)",
          "carbohydrates",
          "processed food",
          "beverage",
          "other",
          "fruit",
          "mushroom/fungus"
         ],
         "type": "scatterpolar"
        },
        {
         "fill": "toself",
         "name": "dessert",
         "r": [
          0.00796812749003984,
          0.027888446215139442,
          0.07569721115537849,
          0.08366533864541832,
          0.02390438247011952,
          0.05976095617529881,
          0.01195219123505976,
          0.0398406374501992,
          0.00398406374501992,
          0.04780876494023904,
          0
         ],
         "theta": [
          "vegetable",
          "protein",
          "condiment (liquid)",
          "condiment (powder)",
          "condiment (bulk)",
          "carbohydrates",
          "processed food",
          "beverage",
          "other",
          "fruit",
          "mushroom/fungus"
         ],
         "type": "scatterpolar"
        },
        {
         "fill": "toself",
         "name": "entree",
         "r": [
          0.08513931888544891,
          0.08668730650154799,
          0.06037151702786378,
          0.05417956656346749,
          0.04179566563467492,
          0.04489164086687306,
          0.02321981424148607,
          0.021671826625386997,
          0.007739938080495356,
          0.021671826625386997,
          0.01393188854489164
         ],
         "theta": [
          "vegetable",
          "protein",
          "condiment (liquid)",
          "condiment (powder)",
          "condiment (bulk)",
          "carbohydrates",
          "processed food",
          "beverage",
          "other",
          "fruit",
          "mushroom/fungus"
         ],
         "type": "scatterpolar"
        },
        {
         "fill": "toself",
         "name": "salad",
         "r": [
          0.17391304347826086,
          0.08074534161490683,
          0.09316770186335403,
          0.07453416149068323,
          0.062111801242236024,
          0.043478260869565216,
          0.024844720496894408,
          0.037267080745341616,
          0.012422360248447204,
          0.024844720496894408,
          0.024844720496894408
         ],
         "theta": [
          "vegetable",
          "protein",
          "condiment (liquid)",
          "condiment (powder)",
          "condiment (bulk)",
          "carbohydrates",
          "processed food",
          "beverage",
          "other",
          "fruit",
          "mushroom/fungus"
         ],
         "type": "scatterpolar"
        },
        {
         "fill": "toself",
         "name": "soup_stew",
         "r": [
          0.1388888888888889,
          0.0873015873015873,
          0.07936507936507936,
          0.06349206349206349,
          0.05952380952380952,
          0.07142857142857142,
          0.031746031746031744,
          0.04365079365079365,
          0.011904761904761904,
          0,
          0.031746031746031744
         ],
         "theta": [
          "vegetable",
          "protein",
          "condiment (liquid)",
          "condiment (powder)",
          "condiment (bulk)",
          "carbohydrates",
          "processed food",
          "beverage",
          "other",
          "fruit",
          "mushroom/fungus"
         ],
         "type": "scatterpolar"
        }
       ],
       "layout": {
        "polar": {
         "radialaxis": {
          "visible": true
         }
        },
        "showlegend": true,
        "template": {
         "data": {
          "bar": [
           {
            "error_x": {
             "color": "rgb(51,51,51)"
            },
            "error_y": {
             "color": "rgb(51,51,51)"
            },
            "marker": {
             "line": {
              "color": "rgb(237,237,237)",
              "width": 0.5
             },
             "pattern": {
              "fillmode": "overlay",
              "size": 10,
              "solidity": 0.2
             }
            },
            "type": "bar"
           }
          ],
          "barpolar": [
           {
            "marker": {
             "line": {
              "color": "rgb(237,237,237)",
              "width": 0.5
             },
             "pattern": {
              "fillmode": "overlay",
              "size": 10,
              "solidity": 0.2
             }
            },
            "type": "barpolar"
           }
          ],
          "carpet": [
           {
            "aaxis": {
             "endlinecolor": "rgb(51,51,51)",
             "gridcolor": "white",
             "linecolor": "white",
             "minorgridcolor": "white",
             "startlinecolor": "rgb(51,51,51)"
            },
            "baxis": {
             "endlinecolor": "rgb(51,51,51)",
             "gridcolor": "white",
             "linecolor": "white",
             "minorgridcolor": "white",
             "startlinecolor": "rgb(51,51,51)"
            },
            "type": "carpet"
           }
          ],
          "choropleth": [
           {
            "colorbar": {
             "outlinewidth": 0,
             "tickcolor": "rgb(237,237,237)",
             "ticklen": 6,
             "ticks": "inside"
            },
            "type": "choropleth"
           }
          ],
          "contour": [
           {
            "colorbar": {
             "outlinewidth": 0,
             "tickcolor": "rgb(237,237,237)",
             "ticklen": 6,
             "ticks": "inside"
            },
            "colorscale": [
             [
              0,
              "rgb(20,44,66)"
             ],
             [
              1,
              "rgb(90,179,244)"
             ]
            ],
            "type": "contour"
           }
          ],
          "contourcarpet": [
           {
            "colorbar": {
             "outlinewidth": 0,
             "tickcolor": "rgb(237,237,237)",
             "ticklen": 6,
             "ticks": "inside"
            },
            "type": "contourcarpet"
           }
          ],
          "heatmap": [
           {
            "colorbar": {
             "outlinewidth": 0,
             "tickcolor": "rgb(237,237,237)",
             "ticklen": 6,
             "ticks": "inside"
            },
            "colorscale": [
             [
              0,
              "rgb(20,44,66)"
             ],
             [
              1,
              "rgb(90,179,244)"
             ]
            ],
            "type": "heatmap"
           }
          ],
          "heatmapgl": [
           {
            "colorbar": {
             "outlinewidth": 0,
             "tickcolor": "rgb(237,237,237)",
             "ticklen": 6,
             "ticks": "inside"
            },
            "colorscale": [
             [
              0,
              "rgb(20,44,66)"
             ],
             [
              1,
              "rgb(90,179,244)"
             ]
            ],
            "type": "heatmapgl"
           }
          ],
          "histogram": [
           {
            "marker": {
             "pattern": {
              "fillmode": "overlay",
              "size": 10,
              "solidity": 0.2
             }
            },
            "type": "histogram"
           }
          ],
          "histogram2d": [
           {
            "colorbar": {
             "outlinewidth": 0,
             "tickcolor": "rgb(237,237,237)",
             "ticklen": 6,
             "ticks": "inside"
            },
            "colorscale": [
             [
              0,
              "rgb(20,44,66)"
             ],
             [
              1,
              "rgb(90,179,244)"
             ]
            ],
            "type": "histogram2d"
           }
          ],
          "histogram2dcontour": [
           {
            "colorbar": {
             "outlinewidth": 0,
             "tickcolor": "rgb(237,237,237)",
             "ticklen": 6,
             "ticks": "inside"
            },
            "colorscale": [
             [
              0,
              "rgb(20,44,66)"
             ],
             [
              1,
              "rgb(90,179,244)"
             ]
            ],
            "type": "histogram2dcontour"
           }
          ],
          "mesh3d": [
           {
            "colorbar": {
             "outlinewidth": 0,
             "tickcolor": "rgb(237,237,237)",
             "ticklen": 6,
             "ticks": "inside"
            },
            "type": "mesh3d"
           }
          ],
          "parcoords": [
           {
            "line": {
             "colorbar": {
              "outlinewidth": 0,
              "tickcolor": "rgb(237,237,237)",
              "ticklen": 6,
              "ticks": "inside"
             }
            },
            "type": "parcoords"
           }
          ],
          "pie": [
           {
            "automargin": true,
            "type": "pie"
           }
          ],
          "scatter": [
           {
            "fillpattern": {
             "fillmode": "overlay",
             "size": 10,
             "solidity": 0.2
            },
            "type": "scatter"
           }
          ],
          "scatter3d": [
           {
            "line": {
             "colorbar": {
              "outlinewidth": 0,
              "tickcolor": "rgb(237,237,237)",
              "ticklen": 6,
              "ticks": "inside"
             }
            },
            "marker": {
             "colorbar": {
              "outlinewidth": 0,
              "tickcolor": "rgb(237,237,237)",
              "ticklen": 6,
              "ticks": "inside"
             }
            },
            "type": "scatter3d"
           }
          ],
          "scattercarpet": [
           {
            "marker": {
             "colorbar": {
              "outlinewidth": 0,
              "tickcolor": "rgb(237,237,237)",
              "ticklen": 6,
              "ticks": "inside"
             }
            },
            "type": "scattercarpet"
           }
          ],
          "scattergeo": [
           {
            "marker": {
             "colorbar": {
              "outlinewidth": 0,
              "tickcolor": "rgb(237,237,237)",
              "ticklen": 6,
              "ticks": "inside"
             }
            },
            "type": "scattergeo"
           }
          ],
          "scattergl": [
           {
            "marker": {
             "colorbar": {
              "outlinewidth": 0,
              "tickcolor": "rgb(237,237,237)",
              "ticklen": 6,
              "ticks": "inside"
             }
            },
            "type": "scattergl"
           }
          ],
          "scattermapbox": [
           {
            "marker": {
             "colorbar": {
              "outlinewidth": 0,
              "tickcolor": "rgb(237,237,237)",
              "ticklen": 6,
              "ticks": "inside"
             }
            },
            "type": "scattermapbox"
           }
          ],
          "scatterpolar": [
           {
            "marker": {
             "colorbar": {
              "outlinewidth": 0,
              "tickcolor": "rgb(237,237,237)",
              "ticklen": 6,
              "ticks": "inside"
             }
            },
            "type": "scatterpolar"
           }
          ],
          "scatterpolargl": [
           {
            "marker": {
             "colorbar": {
              "outlinewidth": 0,
              "tickcolor": "rgb(237,237,237)",
              "ticklen": 6,
              "ticks": "inside"
             }
            },
            "type": "scatterpolargl"
           }
          ],
          "scatterternary": [
           {
            "marker": {
             "colorbar": {
              "outlinewidth": 0,
              "tickcolor": "rgb(237,237,237)",
              "ticklen": 6,
              "ticks": "inside"
             }
            },
            "type": "scatterternary"
           }
          ],
          "surface": [
           {
            "colorbar": {
             "outlinewidth": 0,
             "tickcolor": "rgb(237,237,237)",
             "ticklen": 6,
             "ticks": "inside"
            },
            "colorscale": [
             [
              0,
              "rgb(20,44,66)"
             ],
             [
              1,
              "rgb(90,179,244)"
             ]
            ],
            "type": "surface"
           }
          ],
          "table": [
           {
            "cells": {
             "fill": {
              "color": "rgb(237,237,237)"
             },
             "line": {
              "color": "white"
             }
            },
            "header": {
             "fill": {
              "color": "rgb(217,217,217)"
             },
             "line": {
              "color": "white"
             }
            },
            "type": "table"
           }
          ]
         },
         "layout": {
          "annotationdefaults": {
           "arrowhead": 0,
           "arrowwidth": 1
          },
          "autotypenumbers": "strict",
          "coloraxis": {
           "colorbar": {
            "outlinewidth": 0,
            "tickcolor": "rgb(237,237,237)",
            "ticklen": 6,
            "ticks": "inside"
           }
          },
          "colorscale": {
           "sequential": [
            [
             0,
             "rgb(20,44,66)"
            ],
            [
             1,
             "rgb(90,179,244)"
            ]
           ],
           "sequentialminus": [
            [
             0,
             "rgb(20,44,66)"
            ],
            [
             1,
             "rgb(90,179,244)"
            ]
           ]
          },
          "colorway": [
           "#F8766D",
           "#A3A500",
           "#00BF7D",
           "#00B0F6",
           "#E76BF3"
          ],
          "font": {
           "color": "rgb(51,51,51)"
          },
          "geo": {
           "bgcolor": "white",
           "lakecolor": "white",
           "landcolor": "rgb(237,237,237)",
           "showlakes": true,
           "showland": true,
           "subunitcolor": "white"
          },
          "hoverlabel": {
           "align": "left"
          },
          "hovermode": "closest",
          "paper_bgcolor": "white",
          "plot_bgcolor": "rgb(237,237,237)",
          "polar": {
           "angularaxis": {
            "gridcolor": "white",
            "linecolor": "white",
            "showgrid": true,
            "tickcolor": "rgb(51,51,51)",
            "ticks": "outside"
           },
           "bgcolor": "rgb(237,237,237)",
           "radialaxis": {
            "gridcolor": "white",
            "linecolor": "white",
            "showgrid": true,
            "tickcolor": "rgb(51,51,51)",
            "ticks": "outside"
           }
          },
          "scene": {
           "xaxis": {
            "backgroundcolor": "rgb(237,237,237)",
            "gridcolor": "white",
            "gridwidth": 2,
            "linecolor": "white",
            "showbackground": true,
            "showgrid": true,
            "tickcolor": "rgb(51,51,51)",
            "ticks": "outside",
            "zerolinecolor": "white"
           },
           "yaxis": {
            "backgroundcolor": "rgb(237,237,237)",
            "gridcolor": "white",
            "gridwidth": 2,
            "linecolor": "white",
            "showbackground": true,
            "showgrid": true,
            "tickcolor": "rgb(51,51,51)",
            "ticks": "outside",
            "zerolinecolor": "white"
           },
           "zaxis": {
            "backgroundcolor": "rgb(237,237,237)",
            "gridcolor": "white",
            "gridwidth": 2,
            "linecolor": "white",
            "showbackground": true,
            "showgrid": true,
            "tickcolor": "rgb(51,51,51)",
            "ticks": "outside",
            "zerolinecolor": "white"
           }
          },
          "shapedefaults": {
           "fillcolor": "black",
           "line": {
            "width": 0
           },
           "opacity": 0.3
          },
          "ternary": {
           "aaxis": {
            "gridcolor": "white",
            "linecolor": "white",
            "showgrid": true,
            "tickcolor": "rgb(51,51,51)",
            "ticks": "outside"
           },
           "baxis": {
            "gridcolor": "white",
            "linecolor": "white",
            "showgrid": true,
            "tickcolor": "rgb(51,51,51)",
            "ticks": "outside"
           },
           "bgcolor": "rgb(237,237,237)",
           "caxis": {
            "gridcolor": "white",
            "linecolor": "white",
            "showgrid": true,
            "tickcolor": "rgb(51,51,51)",
            "ticks": "outside"
           }
          },
          "xaxis": {
           "automargin": true,
           "gridcolor": "white",
           "linecolor": "white",
           "showgrid": true,
           "tickcolor": "rgb(51,51,51)",
           "ticks": "outside",
           "title": {
            "standoff": 15
           },
           "zerolinecolor": "white"
          },
          "yaxis": {
           "automargin": true,
           "gridcolor": "white",
           "linecolor": "white",
           "showgrid": true,
           "tickcolor": "rgb(51,51,51)",
           "ticks": "outside",
           "title": {
            "standoff": 15
           },
           "zerolinecolor": "white"
          }
         }
        },
        "title": {
         "text": "Condiment radar plot of each subclass"
        }
       }
      }
     },
     "metadata": {},
     "output_type": "display_data"
    }
   ],
   "source": [
    "fig = go.Figure()\n",
    "\n",
    "fig.add_trace(go.Scatterpolar(\n",
    "      r=data['appetizer'],\n",
    "      theta=data[\"type\"],\n",
    "      fill='toself',\n",
    "      name='appetizer'\n",
    "))\n",
    "fig.add_trace(go.Scatterpolar(\n",
    "      r=data['breakfast'],\n",
    "      theta=data[\"type\"],\n",
    "      fill='toself',\n",
    "      name='breakfast'\n",
    "))\n",
    "fig.add_trace(go.Scatterpolar(\n",
    "      r=data['beverage'],\n",
    "      theta=data[\"type\"],\n",
    "      fill='toself',\n",
    "      name='beverage'\n",
    "))\n",
    "fig.add_trace(go.Scatterpolar(\n",
    "      r=data['dessert'],\n",
    "      theta=data[\"type\"],\n",
    "      fill='toself',\n",
    "      name='dessert'\n",
    "))\n",
    "fig.add_trace(go.Scatterpolar(\n",
    "      r=data['entree'],\n",
    "      theta=data[\"type\"],\n",
    "      fill='toself',\n",
    "      name='entree'\n",
    "))\n",
    "fig.add_trace(go.Scatterpolar(\n",
    "      r=data['salad'],\n",
    "      theta=data[\"type\"],\n",
    "      fill='toself',\n",
    "      name='salad'\n",
    "))\n",
    "fig.add_trace(go.Scatterpolar(\n",
    "      r=data['soup_stew'],\n",
    "      theta=data[\"type\"],\n",
    "      fill='toself',\n",
    "      name='soup_stew'\n",
    "))\n",
    "\n",
    "fig.update_layout(\n",
    "  polar=dict(\n",
    "    radialaxis=dict(\n",
    "      visible=True,\n",
    "      # range=[0, 1]\n",
    "    )),\n",
    "  showlegend=True,\n",
    "  template='ggplot2',\n",
    "  title = 'Condiment radar plot of each subclass'\n",
    ")\n",
    "\n",
    "fig.show()\n",
    "fig.write_html(\"windrose.html\")"
   ]
  }
 ],
 "metadata": {
  "interpreter": {
   "hash": "a33b775cd6344257653a6d40ab6b5f2969c84566975f51b8eb6ff1553bceff8c"
  },
  "kernelspec": {
   "display_name": "Python 3.9.10 64-bit ('myenv': conda)",
   "language": "python",
   "name": "python3"
  },
  "language_info": {
   "codemirror_mode": {
    "name": "ipython",
    "version": 3
   },
   "file_extension": ".py",
   "mimetype": "text/x-python",
   "name": "python",
   "nbconvert_exporter": "python",
   "pygments_lexer": "ipython3",
   "version": "3.9.12"
  },
  "orig_nbformat": 4
 },
 "nbformat": 4,
 "nbformat_minor": 2
}
